{
 "cells": [
  {
   "cell_type": "markdown",
   "metadata": {},
   "source": [
    "# ete-diff"
   ]
  },
  {
   "cell_type": "markdown",
   "metadata": {},
   "source": [
    "ete-diff allows to compute toppological differences and distances between trees by robinson foulds symmetric difference and number of share edges"
   ]
  },
  {
   "cell_type": "markdown",
   "metadata": {},
   "source": [
    "## Overview"
   ]
  },
  {
   "cell_type": "markdown",
   "metadata": {},
   "source": [
    "Method of calculation:\n",
    "    1.\n",
    "    2.\n",
    "Notable features include:\n",
    "    1.\n",
    "    2.\n",
    "    3."
   ]
  },
  {
   "cell_type": "code",
   "execution_count": null,
   "metadata": {},
   "outputs": [],
   "source": []
  },
  {
   "cell_type": "markdown",
   "metadata": {},
   "source": [
    "## Examples(API)"
   ]
  },
  {
   "cell_type": "markdown",
   "metadata": {},
   "source": [
    "## Basic tree comparison"
   ]
  },
  {
   "cell_type": "markdown",
   "metadata": {},
   "source": [
    "the ete-diff function allows to find differences between two trees through calculating their distances using ete-compare function. It further handles differences by demostrating topologies of nodes.  "
   ]
  },
  {
   "cell_type": "code",
   "execution_count": null,
   "metadata": {},
   "outputs": [],
   "source": [
    "from ete3 import Tree\n",
    "t1 = Tree('(((a,b),c), ((e, f), g));')\n",
    "t2 = Tree('(((a,c),b), (g, H));')"
   ]
  },
  {
   "cell_type": "markdown",
   "metadata": {},
   "source": [
    "### Output layout and annotation:   "
   ]
  },
  {
   "cell_type": "markdown",
   "metadata": {},
   "source": [
    "diff() displays results in 5 options, \"summary\", \"difftable\", \"topology\", \"tabs\" and \"table\" "
   ]
  },
  {
   "cell_type": "markdown",
   "metadata": {},
   "source": [
    "The \"summary\" displays only the RF distance calculations, which is the basic components of other all 5 options\n",
    "    - result['avg_dist'] = Average distance between two trees (total_dist/mismatches)\n",
    "    - result['total_dist'] = Total distance between two trees \n",
    "    - result['mismatches'] = number of differences based on edges between source tree and reference\n",
    "    - result['rf'] = robinson-foulds distance between the two trees.\n",
    "    - result['max_rf'] = Maximum robinson-foulds distance expected for this comparison"
   ]
  },
  {
   "cell_type": "markdown",
   "metadata": {},
   "source": [
    "Besides of element from \"summary\", \"difftable\" also displays all the differences by demostrating \n",
    "    - result['difftable'] = [Distance| Branch_distance| Internal_src| Internal_ref| diff_edges| edge_src(as node)| edge_ref(as node)]"
   ]
  },
  {
   "cell_type": "markdown",
   "metadata": {},
   "source": [
    "\"topology\" contains same features as \"difftable\", except display Tree node as ascii figure with colored edges \n",
    "    - result['topo'] = [Distance| Branch_distance| Internal_src| Internal_ref| diff_edges| edge_src(as ascii)| edge_ref(as ascii)]"
   ]
  },
  {
   "cell_type": "markdown",
   "metadata": {},
   "source": [
    "\"table\" and \"tabs\" display static table including distance, branch_distance, internal_nodes, size, edges count of difference and related edges\n",
    "    - result['table'] = [Dist | *Branch Dist| Internal1 | Internal2 | Size1 | Size2 | ndiffs | Diff] "
   ]
  },
  {
   "cell_type": "code",
   "execution_count": 39,
   "metadata": {},
   "outputs": [
    {
     "name": "stdout",
     "output_type": "stream",
     "text": [
      "{'avg_dist': 0.7500000049670538, 'total_dist': 4.500000029802322, 'mismatches': 6, 'rf': 2, 'max_rf': 4}\n"
     ]
    }
   ],
   "source": [
    "## \"summary\" displays only the RF distance calculations, which is the basic components of other all 5 styles\n",
    "result = t1.diff(t2, output='summary')\n",
    "print(result)"
   ]
  },
  {
   "cell_type": "code",
   "execution_count": 57,
   "metadata": {},
   "outputs": [
    {
     "name": "stdout",
     "output_type": "stream",
     "text": [
      "['Distance', 'Branch_distance', 'Internal_src', 'Internal_ref', 'diff_edges', 'edge_src(as node)', 'edge_ref(as node)']\n",
      "[1.0, -1, {'e'}, {'H'}, {'H', 'e'}, Tree node 'e' (0x7f8ba2189b5), Tree node 'H' (0x7f8ba21898d)]\n",
      "diff edge from target tree \n",
      "--e\n",
      "diff edge from ref tree \n",
      "--H\n",
      "#####################################\n",
      "['Distance', 'Branch_distance', 'Internal_src', 'Internal_ref', 'diff_edges', 'edge_src(as node)', 'edge_ref(as node)']\n",
      "[1.0, -1, {'f'}, {'b', 'g', 'H', 'c', 'a'}, {'b', 'g', 'f', 'H', 'c', 'a'}, Tree node 'f' (0x7f8ba2189dd), Tree node '' (0x7f8ba2189f5)]\n",
      "diff edge from target tree \n",
      "--f\n",
      "diff edge from ref tree \n",
      "         /-a\n",
      "      /-|\n",
      "   /-|   \\-c\n",
      "  |  |\n",
      "--|   \\-b\n",
      "  |\n",
      "  |   /-g\n",
      "   \\-|\n",
      "      \\-H\n",
      "#####################################\n",
      "['Distance', 'Branch_distance', 'Internal_src', 'Internal_ref', 'diff_edges', 'edge_src(as node)', 'edge_ref(as node)']\n",
      "[0.5, -1, {'b', 'a'}, {'c', 'a'}, {'c', 'b'}, Tree node '' (0x7f8ba218941), Tree node '' (0x7f8ba21893d)]\n",
      "diff edge from target tree \n",
      "   /-a\n",
      "--|\n",
      "   \\-b\n",
      "diff edge from ref tree \n",
      "   /-a\n",
      "--|\n",
      "   \\-c\n",
      "#####################################\n",
      "['Distance', 'Branch_distance', 'Internal_src', 'Internal_ref', 'diff_edges', 'edge_src(as node)', 'edge_ref(as node)']\n",
      "[1.0, -1, {'e', 'f'}, {'b', 'g', 'H', 'c', 'a'}, {'e', 'b', 'g', 'f', 'H', 'c', 'a'}, Tree node '' (0x7f8ba218981), Tree node '' (0x7f8ba2189a1)]\n",
      "diff edge from target tree \n",
      "   /-e\n",
      "--|\n",
      "   \\-f\n",
      "diff edge from ref tree \n",
      "         /-a\n",
      "      /-|\n",
      "   /-|   \\-c\n",
      "  |  |\n",
      "--|   \\-b\n",
      "  |\n",
      "  |   /-g\n",
      "   \\-|\n",
      "      \\-H\n",
      "#####################################\n",
      "['Distance', 'Branch_distance', 'Internal_src', 'Internal_ref', 'diff_edges', 'edge_src(as node)', 'edge_ref(as node)']\n",
      "[0.6666667, -1, {'g', 'e', 'f'}, {'H', 'g'}, {'H', 'e', 'f'}, Tree node '' (0x7f8ba218935), Tree node '' (0x7f8ba121dc9)]\n",
      "diff edge from target tree \n",
      "      /-e\n",
      "   /-|\n",
      "--|   \\-f\n",
      "  |\n",
      "   \\-g\n",
      "diff edge from ref tree \n",
      "   /-g\n",
      "--|\n",
      "   \\-H\n",
      "#####################################\n",
      "['Distance', 'Branch_distance', 'Internal_src', 'Internal_ref', 'diff_edges', 'edge_src(as node)', 'edge_ref(as node)']\n",
      "[0.33333334, -1, {'e', 'b', 'g', 'f', 'c', 'a'}, {'b', 'g', 'H', 'c', 'a'}, {'e', 'f', 'H'}, Tree node '' (0x7f8ba2189c5), Tree node '' (0x7f8ba16d3b9)]\n",
      "diff edge from target tree \n",
      "         /-a\n",
      "      /-|\n",
      "   /-|   \\-b\n",
      "  |  |\n",
      "  |   \\-c\n",
      "--|\n",
      "  |      /-e\n",
      "  |   /-|\n",
      "   \\-|   \\-f\n",
      "     |\n",
      "      \\-g\n",
      "diff edge from ref tree \n",
      "         /-a\n",
      "      /-|\n",
      "   /-|   \\-c\n",
      "  |  |\n",
      "--|   \\-b\n",
      "  |\n",
      "  |   /-g\n",
      "   \\-|\n",
      "      \\-H\n",
      "#####################################\n"
     ]
    }
   ],
   "source": [
    "## report in difftable, return detailed information of all the differences, including tree nodes\n",
    "result = t1.diff(t2, output='difftable')\n",
    "for diff in result['difftable']:\n",
    "    print([\"Distance\", \"Branch_distance\", \"Internal_src\", \"Internal_ref\", \"diff_edges\", \"edge_src(as node)\", \"edge_ref(as node)\"])\n",
    "    print(diff)\n",
    "    print(\"diff edge from target tree\", diff[-2])\n",
    "    print(\"diff edge from ref tree\", diff[-1])\n",
    "    print(\"#####################################\")"
   ]
  },
  {
   "cell_type": "code",
   "execution_count": null,
   "metadata": {},
   "outputs": [],
   "source": []
  },
  {
   "cell_type": "code",
   "execution_count": 61,
   "metadata": {},
   "outputs": [
    {
     "name": "stdout",
     "output_type": "stream",
     "text": [
      "['Distance', 'Branch_distance', 'Internal_src', 'Internal_ref', 'diff_edges', 'edge_src(as node)', 'edge_ref(as node)']\n",
      "[0.33333334, -1, {'e', 'b', 'g', 'f', 'c', 'a'}, {'b', 'g', 'H', 'c', 'a'}, {'e', 'f', 'H'}, Tree node '' (0x7f8ba2189c5), Tree node '' (0x7f8ba16d3b9)]\n",
      "diff edge from target tree \n",
      "   /-\u001b[31me ***\u001b[0m\n",
      "--|\n",
      "   \\-\u001b[31mf ***\u001b[0m\n",
      "diff edge from ref tree \n",
      "      /-\u001b[31mg ***\u001b[0m\n",
      "   /-|\n",
      "  |   \\-\u001b[31mH ***\u001b[0m\n",
      "--|\n",
      "  |   /-\u001b[31mb ***\u001b[0m\n",
      "   \\-|\n",
      "     |   /-\u001b[31ma ***\u001b[0m\n",
      "      \\-|\n",
      "         \\-\u001b[31mc ***\u001b[0m\n",
      "#####################################\n",
      "['Distance', 'Branch_distance', 'Internal_src', 'Internal_ref', 'diff_edges', 'edge_src(as node)', 'edge_ref(as node)']\n",
      "[0.33333334, -1, {'e', 'b', 'g', 'f', 'c', 'a'}, {'b', 'g', 'H', 'c', 'a'}, {'e', 'f', 'H'}, Tree node '' (0x7f8ba2189c5), Tree node '' (0x7f8ba16d3b9)]\n",
      "diff edge from target tree \n",
      "--\u001b[31me ***\u001b[0m\n",
      "diff edge from ref tree \n",
      "--\u001b[31mH ***\u001b[0m\n",
      "#####################################\n",
      "['Distance', 'Branch_distance', 'Internal_src', 'Internal_ref', 'diff_edges', 'edge_src(as node)', 'edge_ref(as node)']\n",
      "[0.33333334, -1, {'e', 'b', 'g', 'f', 'c', 'a'}, {'b', 'g', 'H', 'c', 'a'}, {'e', 'f', 'H'}, Tree node '' (0x7f8ba2189c5), Tree node '' (0x7f8ba16d3b9)]\n",
      "diff edge from target tree \n",
      "--\u001b[31mf ***\u001b[0m\n",
      "diff edge from ref tree \n",
      "      /-\u001b[31mg ***\u001b[0m\n",
      "   /-|\n",
      "  |   \\-\u001b[31mH ***\u001b[0m\n",
      "--|\n",
      "  |   /-\u001b[31mb ***\u001b[0m\n",
      "   \\-|\n",
      "     |   /-\u001b[31ma ***\u001b[0m\n",
      "      \\-|\n",
      "         \\-\u001b[31mc ***\u001b[0m\n",
      "#####################################\n",
      "['Distance', 'Branch_distance', 'Internal_src', 'Internal_ref', 'diff_edges', 'edge_src(as node)', 'edge_ref(as node)']\n",
      "[0.33333334, -1, {'e', 'b', 'g', 'f', 'c', 'a'}, {'b', 'g', 'H', 'c', 'a'}, {'e', 'f', 'H'}, Tree node '' (0x7f8ba2189c5), Tree node '' (0x7f8ba16d3b9)]\n",
      "diff edge from target tree \n",
      "   /-g\n",
      "--|\n",
      "  |   /-\u001b[31me ***\u001b[0m\n",
      "   \\-|\n",
      "      \\-\u001b[31mf ***\u001b[0m\n",
      "diff edge from ref tree \n",
      "   /-g\n",
      "--|\n",
      "   \\-\u001b[31mH ***\u001b[0m\n",
      "#####################################\n",
      "['Distance', 'Branch_distance', 'Internal_src', 'Internal_ref', 'diff_edges', 'edge_src(as node)', 'edge_ref(as node)']\n",
      "[0.33333334, -1, {'e', 'b', 'g', 'f', 'c', 'a'}, {'b', 'g', 'H', 'c', 'a'}, {'e', 'f', 'H'}, Tree node '' (0x7f8ba2189c5), Tree node '' (0x7f8ba16d3b9)]\n",
      "diff edge from target tree \n",
      "   /-a\n",
      "--|\n",
      "   \\-\u001b[31mb ***\u001b[0m\n",
      "diff edge from ref tree \n",
      "   /-a\n",
      "--|\n",
      "   \\-\u001b[31mc ***\u001b[0m\n",
      "#####################################\n",
      "['Distance', 'Branch_distance', 'Internal_src', 'Internal_ref', 'diff_edges', 'edge_src(as node)', 'edge_ref(as node)']\n",
      "[0.33333334, -1, {'e', 'b', 'g', 'f', 'c', 'a'}, {'b', 'g', 'H', 'c', 'a'}, {'e', 'f', 'H'}, Tree node '' (0x7f8ba2189c5), Tree node '' (0x7f8ba16d3b9)]\n",
      "diff edge from target tree \n",
      "      /-c\n",
      "   /-|\n",
      "  |  |   /-a\n",
      "  |   \\-|\n",
      "--|      \\-b\n",
      "  |\n",
      "  |   /-g\n",
      "   \\-|\n",
      "     |   /-\u001b[31me ***\u001b[0m\n",
      "      \\-|\n",
      "         \\-\u001b[31mf ***\u001b[0m\n",
      "diff edge from ref tree \n",
      "      /-g\n",
      "   /-|\n",
      "  |   \\-\u001b[31mH ***\u001b[0m\n",
      "--|\n",
      "  |   /-b\n",
      "   \\-|\n",
      "     |   /-a\n",
      "      \\-|\n",
      "         \\-c\n",
      "#####################################\n"
     ]
    }
   ],
   "source": [
    "## report in topology, return detailed information of all the differences, including tree nodes\n",
    "result = t1.diff(t2, output='topology')\n",
    "for topo in result['topo']:\n",
    "    print([\"Distance\", \"Branch_distance\", \"Internal_src\", \"Internal_ref\", \"diff_edges\", \"edge_src(as node)\", \"edge_ref(as node)\"])\n",
    "    print(diff)\n",
    "    print(\"diff edge from target tree\", topo[-2])\n",
    "    print(\"diff edge from ref tree\", topo[-1])\n",
    "    print(\"#####################################\")"
   ]
  },
  {
   "cell_type": "code",
   "execution_count": null,
   "metadata": {},
   "outputs": [],
   "source": []
  },
  {
   "cell_type": "code",
   "execution_count": 66,
   "metadata": {},
   "outputs": [
    {
     "name": "stdout",
     "output_type": "stream",
     "text": [
      "['Distance', 'Branch_distance', 'Internal_src', 'Internal_ref', 'diff_edges', 'edge_src(as node)', 'edge_ref(as node)']\n",
      "[1.0, 1.0, 'e', 'H', 1, 1, 2, 'H, e']\n",
      "['Distance', 'Branch_distance', 'Internal_src', 'Internal_ref', 'diff_edges', 'edge_src(as node)', 'edge_ref(as node)']\n",
      "[1.0, 9.0, 'f', 'Null', 1, 5, 6, 'H, a, b, c, f, g']\n",
      "['Distance', 'Branch_distance', 'Internal_src', 'Internal_ref', 'diff_edges', 'edge_src(as node)', 'edge_ref(as node)']\n",
      "[0.5, 0.0, 'Null', 'Null', 2, 2, 2, 'b, c']\n",
      "['Distance', 'Branch_distance', 'Internal_src', 'Internal_ref', 'diff_edges', 'edge_src(as node)', 'edge_ref(as node)']\n",
      "[1.0, 6.0, 'Null', 'Null', 2, 5, 7, 'H, a, b, c, e, f, g']\n",
      "['Distance', 'Branch_distance', 'Internal_src', 'Internal_ref', 'diff_edges', 'edge_src(as node)', 'edge_ref(as node)']\n",
      "[0.6666667, 4.0, 'Null', 'Null', 3, 2, 3, 'H, e, f']\n",
      "['Distance', 'Branch_distance', 'Internal_src', 'Internal_ref', 'diff_edges', 'edge_src(as node)', 'edge_ref(as node)']\n",
      "[0.33333334, 4.0, 'Null', 'Null', 6, 5, 3, 'H, e, f']\n"
     ]
    }
   ],
   "source": [
    "result = t1.diff(t2, output='table', branchdist=\"get_distances1\")\n",
    "for diff in result['table']:\n",
    "    print([\"Distance\", \"Branch_distance\", \"Internal_src\", \"Internal_ref\", \"diff_edges\", \"edge_src(as node)\", \"edge_ref(as node)\"])\n",
    "    print(diff)"
   ]
  },
  {
   "cell_type": "code",
   "execution_count": 68,
   "metadata": {},
   "outputs": [
    {
     "name": "stdout",
     "output_type": "stream",
     "text": [
      "['Distance', 'Branch_distance', 'Internal_src', 'Internal_ref', 'diff_edges', 'edge_src(as node)', 'edge_ref(as node)']\n",
      "[1.0, 1.0, 'e', 'H', 1, 1, 2, 'e', 'H', 'H|e']\n",
      "['Distance', 'Branch_distance', 'Internal_src', 'Internal_ref', 'diff_edges', 'edge_src(as node)', 'edge_ref(as node)']\n",
      "[1.0, 9.0, 'f', 'Null', 1, 5, 6, 'f', 'H|a|b|c|g', 'H|a|b|c|f|g']\n",
      "['Distance', 'Branch_distance', 'Internal_src', 'Internal_ref', 'diff_edges', 'edge_src(as node)', 'edge_ref(as node)']\n",
      "[0.5, 0.0, 'Null', 'Null', 2, 2, 2, 'a|b', 'a|c', 'b|c']\n",
      "['Distance', 'Branch_distance', 'Internal_src', 'Internal_ref', 'diff_edges', 'edge_src(as node)', 'edge_ref(as node)']\n",
      "[1.0, 6.0, 'Null', 'Null', 2, 5, 7, 'e|f', 'H|a|b|c|g', 'H|a|b|c|e|f|g']\n",
      "['Distance', 'Branch_distance', 'Internal_src', 'Internal_ref', 'diff_edges', 'edge_src(as node)', 'edge_ref(as node)']\n",
      "[0.6666667, 4.0, 'Null', 'Null', 3, 2, 3, 'e|f|g', 'H|g', 'H|e|f']\n",
      "['Distance', 'Branch_distance', 'Internal_src', 'Internal_ref', 'diff_edges', 'edge_src(as node)', 'edge_ref(as node)']\n",
      "[0.33333334, 4.0, 'Null', 'Null', 6, 5, 3, 'a|b|c|e|f|g', 'H|a|b|c|g', 'H|e|f']\n"
     ]
    }
   ],
   "source": [
    "result = t1.diff(t2, output='tabs', branchdist=\"get_distances1\")\n",
    "for diff in result['tabs']:\n",
    "    print([\"Distance\", \"Branch_distance\", \"Internal_src\", \"Internal_ref\", \"diff_edges\", \"edge_src(as node)\", \"edge_ref(as node)\"])\n",
    "    print(diff)"
   ]
  },
  {
   "cell_type": "code",
   "execution_count": null,
   "metadata": {},
   "outputs": [],
   "source": []
  },
  {
   "cell_type": "markdown",
   "metadata": {},
   "source": [
    "## examples(command line)"
   ]
  },
  {
   "cell_type": "code",
   "execution_count": 47,
   "metadata": {},
   "outputs": [
    {
     "name": "stdout",
     "output_type": "stream",
     "text": [
      "Dist       | #Diffs  | Tree1                                                                            | Tree2                                                                           \n",
      "========== | ======= | ================================================================================ | ================================================================================\n",
      "1.0        | 1/1 (2) |                                                                                  |                                                                                 \n",
      "           |         | --H ***                                                                          | --e ***                                                                         \n",
      "---------- | ------- | -------------------------------------------------------------------------------- | --------------------------------------------------------------------------------\n",
      "0.6666667  | 2/3 (3) |                                                                                  |                                                                                 \n",
      "           |         |    /-g                                                                           |    /-g                                                                          \n",
      "           |         | --|                                                                              | --|                                                                             \n",
      "           |         |    \\-H ***                                                                       |   |   /-e ***                                                                   \n",
      "           |         |                                                                                  |    \\-|                                                                          \n",
      "           |         |                                                                                  |       \\-f ***                                                                   \n",
      "---------- | ------- | -------------------------------------------------------------------------------- | --------------------------------------------------------------------------------\n",
      "0.5        | 2/2 (2) |                                                                                  |                                                                                 \n",
      "           |         |    /-a                                                                           |    /-a                                                                          \n",
      "           |         | --|                                                                              | --|                                                                             \n",
      "           |         |    \\-c ***                                                                       |    \\-b ***                                                                      \n",
      "---------- | ------- | -------------------------------------------------------------------------------- | --------------------------------------------------------------------------------\n",
      "0.33333334 | 5/6 (3) |                                                                                  |                                                                                 \n",
      "           |         |       /-g                                                                        |       /-c                                                                       \n",
      "           |         |    /-|                                                                           |    /-|                                                                          \n",
      "           |         |   |   \\-H ***                                                                    |   |  |   /-a                                                                    \n",
      "           |         | --|                                                                              |   |   \\-|                                                                       \n",
      "           |         |   |   /-b                                                                        | --|      \\-b                                                                    \n",
      "           |         |    \\-|                                                                           |   |                                                                             \n",
      "           |         |      |   /-a                                                                     |   |   /-g                                                                       \n",
      "           |         |       \\-|                                                                        |    \\-|                                                                          \n",
      "           |         |          \\-c                                                                     |      |   /-e ***                                                                \n",
      "           |         |                                                                                  |       \\-|                                                                       \n",
      "           |         |                                                                                  |          \\-f ***                                                                \n",
      "========== | ======= | ================================================================================ | ================================================================================\n"
     ]
    },
    {
     "name": "stderr",
     "output_type": "stream",
     "text": [
      "Computing distance matrix...\n",
      "Comparing trees...\n"
     ]
    }
   ],
   "source": [
    "%%bash\n",
    "ete3 diff -t '(((a,b),c), ((e, f), g));' -r '(((a,c),b), (g, H));' --report topology"
   ]
  },
  {
   "cell_type": "code",
   "execution_count": 42,
   "metadata": {},
   "outputs": [
    {
     "name": "stdout",
     "output_type": "stream",
     "text": [
      "Dist       | Internal1 | Internal2 | Size1 | Size2 | ndiffs | Diff   \n",
      "========== | ========= | ========= | ===== | ===== | ====== | =======\n",
      "1.0        | H         | e         | 1     | 1     | 2      | H, e   \n",
      "---------- | --------- | --------- | ----- | ----- | ------ | -------\n",
      "0.5        | Null      | Null      | 2     | 2     | 2      | b, c   \n",
      "---------- | --------- | --------- | ----- | ----- | ------ | -------\n",
      "0.6666667  | Null      | Null      | 2     | 3     | 3      | H, e, f\n",
      "---------- | --------- | --------- | ----- | ----- | ------ | -------\n",
      "0.33333334 | Null      | Null      | 5     | 6     | 3      | H, e, f\n",
      "========== | ========= | ========= | ===== | ===== | ====== | =======\n"
     ]
    },
    {
     "name": "stderr",
     "output_type": "stream",
     "text": [
      "Computing distance matrix...\n",
      "Comparing trees...\n"
     ]
    }
   ],
   "source": [
    "%%bash\n",
    "ete3 diff -t '(((a,b),c), ((e, f), g));' -r '(((a,c),b), (g, H));' --report diffs"
   ]
  },
  {
   "cell_type": "code",
   "execution_count": 27,
   "metadata": {},
   "outputs": [
    {
     "name": "stdout",
     "output_type": "stream",
     "text": [
      "\n",
      "Average Dist\tTotal Dist\tMismatches\tRF\tmaxRF\n",
      "0.625000\t2.500000\t         4\t2\t4\n"
     ]
    },
    {
     "name": "stderr",
     "output_type": "stream",
     "text": [
      "Computing distance matrix...\n",
      "Comparing trees...\n"
     ]
    }
   ],
   "source": [
    "%%bash\n",
    "ete3 diff -t '(((a,b),c), ((e, f), g));' -r '(((a,c),b), (g, H));' --report table"
   ]
  },
  {
   "cell_type": "code",
   "execution_count": 46,
   "metadata": {},
   "outputs": [
    {
     "name": "stdout",
     "output_type": "stream",
     "text": [
      "#Dist\tInternal1\tInternal2\tSize1\tSize2\tndiffs\trefTree\ttargetTree\tDiff\n",
      "1.0\tH\te\t1\t1\t2\tH\te\tH|e\n",
      "0.5\tNull\tNull\t2\t2\t2\ta|c\ta|b\tb|c\n",
      "0.6666667\tNull\tNull\t2\t3\t3\tH|g\te|f|g\tH|e|f\n",
      "0.33333334\tNull\tNull\t5\t6\t3\tH|a|b|c|g\ta|b|c|e|f|g\tH|e|f\n"
     ]
    },
    {
     "name": "stderr",
     "output_type": "stream",
     "text": [
      "Computing distance matrix...\n",
      "Comparing trees...\n"
     ]
    }
   ],
   "source": [
    "%%bash\n",
    "ete3 diff -t '(((a,b),c), ((e, f), g));' -r '(((a,c),b), (g, H));' --report diffs_tab"
   ]
  },
  {
   "cell_type": "code",
   "execution_count": null,
   "metadata": {},
   "outputs": [],
   "source": []
  }
 ],
 "metadata": {
  "kernelspec": {
   "display_name": "Python 3",
   "language": "python",
   "name": "python3"
  },
  "language_info": {
   "codemirror_mode": {
    "name": "ipython",
    "version": 3
   },
   "file_extension": ".py",
   "mimetype": "text/x-python",
   "name": "python",
   "nbconvert_exporter": "python",
   "pygments_lexer": "ipython3",
   "version": "3.7.7"
  }
 },
 "nbformat": 4,
 "nbformat_minor": 4
}
